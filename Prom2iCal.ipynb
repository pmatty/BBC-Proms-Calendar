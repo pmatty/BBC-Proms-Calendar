{
 "cells": [
  {
   "cell_type": "markdown",
   "metadata": {},
   "source": [
    "# Webpage to ICS Calendar file Generator."
   ]
  },
  {
   "cell_type": "code",
   "execution_count": null,
   "metadata": {},
   "outputs": [],
   "source": [
    "#Let's import the necessary libraries\n",
    "\n",
    "import requests\n",
    "from bs4 import BeautifulSoup\n",
    "import pandas as pd\n",
    "from ics import Calendar, Event\n",
    "from datetime import datetime, timedelta\n",
    "import os"
   ]
  },
  {
   "cell_type": "markdown",
   "metadata": {},
   "source": [
    "Let's get the calendar webpage and parse it with beautiful soup."
   ]
  },
  {
   "cell_type": "code",
   "execution_count": null,
   "metadata": {},
   "outputs": [],
   "source": [
    "\n",
    "# URL of the webpage\n",
    "url = input('Enter the URL of the BBC Proms calendar: ')\n",
    "\n",
    "# Fetch the webpage content\n",
    "response = requests.get(url)\n",
    "html_content = response.content\n",
    "\n",
    "# Parse the HTML content\n",
    "soup = BeautifulSoup(html_content, 'html.parser')"
   ]
  },
  {
   "cell_type": "markdown",
   "metadata": {},
   "source": [
    "Getting the BBC Proms Calendar webpage we can extract all the events into the concerts array"
   ]
  },
  {
   "cell_type": "code",
   "execution_count": null,
   "metadata": {},
   "outputs": [],
   "source": [
    "# Extract concert details\n",
    "concerts = []\n",
    "for date_section in soup.find_all('h3', class_='ev-event-calendar__date'):\n",
    "    date = date_section.get_text(strip=True)\n",
    "    event_list = date_section.find_next('ul')\n",
    "    if event_list:\n",
    "        for event in event_list.find_all('li'):\n",
    "            info_div = event.find('div', class_='ev-event-calendar__information')\n",
    "            if info_div:\n",
    "                name_div = info_div.find('div', class_='ev-event-calendar__name')\n",
    "                time_div = info_div.find('div', class_='ev-event-calendar__time')\n",
    "                description_tag = info_div.find('p', class_='ev-event-calendar__event-description')\n",
    "\n",
    "                name = name_div.find('a').get_text(strip=True) if name_div else 'N/A'\n",
    "                start_time = time_div.get_text(strip=True) if time_div else 'N/A'\n",
    "                description = description_tag.get_text(strip=True) if description_tag else 'N/A'\n",
    "                \n",
    "                concerts.append({\n",
    "                    'Date': date,\n",
    "                    'Name': name,\n",
    "                    'Start Time': start_time,\n",
    "                    'Description': description\n",
    "                })\n",
    "\n",
    "# Convert to DataFrame\n",
    "concerts_df = pd.DataFrame(concerts)"
   ]
  },
  {
   "cell_type": "markdown",
   "metadata": {},
   "source": [
    "Once we've extracted the concerts infomation from the webpage now we can put this infomation into a calendar."
   ]
  },
  {
   "cell_type": "code",
   "execution_count": null,
   "metadata": {},
   "outputs": [],
   "source": [
    "# Create a new calendar\n",
    "cal = Calendar()\n",
    "\n",
    "# Convert DataFrame dates and times to datetime objects and create events\n",
    "for index, row in concerts_df.iterrows():\n",
    "    event = Event()\n",
    "    event.name = row['Name']\n",
    "    event.description = row['Description']\n",
    "    \n",
    "    # Handle date ranges and combine with start time\n",
    "    date_str = row['Date'].split()[0:3]  # Take only the first date part\n",
    "    date_str = \" \".join(date_str)\n",
    "    start_time_str = row['Start Time']\n",
    "    \n",
    "    try:\n",
    "        event_start = datetime.strptime(f\"{date_str} {start_time_str}\", \"%a %d %b %Y %H:%M\")\n",
    "    except ValueError:\n",
    "        # Handle cases where time might not be available or incorrect format\n",
    "        try:\n",
    "            event_start = datetime.strptime(date_str, \"%a %d %b %Y\")\n",
    "        except ValueError:\n",
    "            continue\n",
    "    \n",
    "    event.begin = event_start\n",
    "    event.end = event_start + timedelta(hours=2)  # assuming 2-hour events\n",
    "    \n",
    "    cal.events.add(event)\n",
    "\n",
    "# Save the calendar to a file\n",
    "# Get the directory of the current python file\n",
    "current_dir = os.path.dirname(os.path.abspath(__file__))\n",
    "\n",
    "# Set the path for the ical file in the same directory\n",
    "ical_file_path = os.path.join(current_dir, 'bbc_proms_2024.ics')\n",
    "with open(ical_file_path, 'w') as f:\n",
    "    f.writelines(cal)\n",
    "\n",
    "print(f'iCalendar file saved as {ical_file_path}')\n"
   ]
  }
 ],
 "metadata": {
  "language_info": {
   "name": "python"
  }
 },
 "nbformat": 4,
 "nbformat_minor": 2
}
